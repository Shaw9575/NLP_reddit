{
 "cells": [
  {
   "cell_type": "code",
   "execution_count": 2,
   "metadata": {
    "collapsed": true
   },
   "outputs": [],
   "source": [
    "import praw\n",
    "from praw.models import MoreComments"
   ]
  },
  {
   "cell_type": "code",
   "execution_count": 4,
   "metadata": {},
   "outputs": [],
   "source": [
    "def generator_with(mode, limit):\n",
    "    gen = None\n",
    "    if mode == 'hot':\n",
    "        gen = subreddit.hot(limit=limit)\n",
    "    elif mode == 'rising':\n",
    "        gen = subreddit.rising(limit=limit)\n",
    "    elif mode == 'top':\n",
    "        gen = subreddit.top(limit=limit)\n",
    "    \n",
    "    return gen\n",
    "        \n",
    "def crawl(labels, path='../data/raw/', limit=1000):\n",
    "    reddit = praw.Reddit(user_agent='ios::textclassification::',\n",
    "                     client_id='yRaWU_KMA2WMGA', client_secret=\"_ljiXu3dPHd5lhOlZc78M97V-iU\",\n",
    "                     username='ZhengCao', password='cz19951029')    \n",
    "    \n",
    "    for label, sublabel, mode in labels:\n",
    "\n",
    "        fn = path + '%s_%s_%s.csv' % (label, sublabel, mode) \n",
    "        subreddit = reddit.subreddit(label)\n",
    "        with open(fn, 'w') as f:\n",
    "            gen = generator_with(mode, limit)\n",
    "            for submission in gen:\n",
    "                f.write('%s\\t%s\\t%s\\n' % (submission.id, submission.title, label))"
   ]
  },
  {
   "cell_type": "code",
   "execution_count": 9,
   "metadata": {
    "collapsed": true
   },
   "outputs": [],
   "source": [
    "def read_labels(fn):\n",
    "    args = []\n",
    "    with open(fn, 'r') as f:\n",
    "        for line in f.readlines():\n",
    "            if not line.startswith('#'):\n",
    "                arg = line.strip().split(' ')\n",
    "                args.append((arg[0], arg[1], arg[2]))\n",
    "                \n",
    "    return args"
   ]
  },
  {
   "cell_type": "code",
   "execution_count": 6,
   "metadata": {},
   "outputs": [],
   "source": [
    "# labels = {'politics': ['politics'], 'science': ['machinelearning', 'artificial'], 'sports':['sports'], 'games': ['game'], 'funny': ['funny']}\n",
    "# crawl(labels)"
   ]
  },
  {
   "cell_type": "code",
   "execution_count": 10,
   "metadata": {},
   "outputs": [
    {
     "data": {
      "text/plain": [
       "[('politics', 'politics', 'hot'),\n",
       " ('science', 'machinelearning', 'hot'),\n",
       " ('science', 'artificial', 'hot'),\n",
       " ('sports', 'sports', 'hot'),\n",
       " ('games', 'game', 'hot'),\n",
       " ('funny', 'funny', 'hot')]"
      ]
     },
     "execution_count": 10,
     "metadata": {},
     "output_type": "execute_result"
    }
   ],
   "source": [
    "read_labels('labels')"
   ]
  }
 ],
 "metadata": {
  "kernelspec": {
   "display_name": "Python 3",
   "language": "python",
   "name": "python3"
  },
  "language_info": {
   "codemirror_mode": {
    "name": "ipython",
    "version": 3
   },
   "file_extension": ".py",
   "mimetype": "text/x-python",
   "name": "python",
   "nbconvert_exporter": "python",
   "pygments_lexer": "ipython3",
   "version": "3.6.3"
  }
 },
 "nbformat": 4,
 "nbformat_minor": 2
}
